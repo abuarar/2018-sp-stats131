{
 "cells": [
  {
   "cell_type": "code",
   "execution_count": 1,
   "metadata": {},
   "outputs": [],
   "source": [
    "import statsmodels.api as sm\n",
    "import statsmodels.formula.api as smf\n",
    "import numpy as np\n",
    "import pandas as pd"
   ]
  },
  {
   "cell_type": "code",
   "execution_count": 2,
   "metadata": {},
   "outputs": [],
   "source": [
    "bmx = pd.read_sas('BMX_I.XPT')"
   ]
  },
  {
   "cell_type": "code",
   "execution_count": 3,
   "metadata": {},
   "outputs": [],
   "source": [
    "demo = pd.read_sas('DEMO_I.XPT')"
   ]
  },
  {
   "cell_type": "code",
   "execution_count": 4,
   "metadata": {},
   "outputs": [],
   "source": [
    "merged = bmx.merge(right = demo, on = 'SEQN')"
   ]
  },
  {
   "cell_type": "code",
   "execution_count": 5,
   "metadata": {},
   "outputs": [],
   "source": [
    "babies = merged.loc[merged.RIDAGEMN <= 12,['RIDAGEMN','RIAGENDR','BMXWT']]  \n",
    "# subset to select those with age in month 12 and under, select age in months, gender, weight"
   ]
  },
  {
   "cell_type": "code",
   "execution_count": 6,
   "metadata": {},
   "outputs": [],
   "source": [
    "babies.columns = ['age', 'gender','weight']  #rename columns"
   ]
  },
  {
   "cell_type": "code",
   "execution_count": 7,
   "metadata": {},
   "outputs": [
    {
     "name": "stdout",
     "output_type": "stream",
     "text": [
      "      age  gender  weight\n",
      "32    2.0     2.0     5.2\n",
      "63    7.0     2.0     8.2\n",
      "105  10.0     2.0     7.3\n",
      "115   5.0     2.0     7.2\n",
      "121   5.0     1.0     7.5\n"
     ]
    }
   ],
   "source": [
    "print(babies.head())"
   ]
  },
  {
   "cell_type": "code",
   "execution_count": 8,
   "metadata": {},
   "outputs": [
    {
     "name": "stdout",
     "output_type": "stream",
     "text": [
      "<class 'pandas.core.frame.DataFrame'>\n",
      "Int64Index: 399 entries, 32 to 9533\n",
      "Data columns (total 3 columns):\n",
      "age       399 non-null float64\n",
      "gender    399 non-null float64\n",
      "weight    399 non-null float64\n",
      "dtypes: float64(3)\n",
      "memory usage: 12.5 KB\n"
     ]
    }
   ],
   "source": [
    "babies.info()"
   ]
  },
  {
   "cell_type": "markdown",
   "metadata": {},
   "source": [
    "## formula notation"
   ]
  },
  {
   "cell_type": "code",
   "execution_count": 9,
   "metadata": {},
   "outputs": [],
   "source": [
    "model = smf.ols('weight ~ age + gender', data = babies)"
   ]
  },
  {
   "cell_type": "code",
   "execution_count": 10,
   "metadata": {},
   "outputs": [],
   "source": [
    "results = model.fit()"
   ]
  },
  {
   "cell_type": "code",
   "execution_count": 11,
   "metadata": {},
   "outputs": [
    {
     "name": "stdout",
     "output_type": "stream",
     "text": [
      "                            OLS Regression Results                            \n",
      "==============================================================================\n",
      "Dep. Variable:                 weight   R-squared:                       0.707\n",
      "Model:                            OLS   Adj. R-squared:                  0.705\n",
      "Method:                 Least Squares   F-statistic:                     477.0\n",
      "Date:                Wed, 23 May 2018   Prob (F-statistic):          3.47e-106\n",
      "Time:                        13:31:01   Log-Likelihood:                -582.83\n",
      "No. Observations:                 399   AIC:                             1172.\n",
      "Df Residuals:                     396   BIC:                             1184.\n",
      "Df Model:                           2                                         \n",
      "Covariance Type:            nonrobust                                         \n",
      "==============================================================================\n",
      "                 coef    std err          t      P>|t|      [0.025      0.975]\n",
      "------------------------------------------------------------------------------\n",
      "Intercept      6.4509      0.188     34.386      0.000       6.082       6.820\n",
      "age            0.4363      0.014     30.102      0.000       0.408       0.465\n",
      "gender        -0.7327      0.105     -6.987      0.000      -0.939      -0.527\n",
      "==============================================================================\n",
      "Omnibus:                       30.003   Durbin-Watson:                   1.873\n",
      "Prob(Omnibus):                  0.000   Jarque-Bera (JB):               48.571\n",
      "Skew:                           0.505   Prob(JB):                     2.84e-11\n",
      "Kurtosis:                       4.379   Cond. No.                         28.1\n",
      "==============================================================================\n",
      "\n",
      "Warnings:\n",
      "[1] Standard Errors assume that the covariance matrix of the errors is correctly specified.\n"
     ]
    }
   ],
   "source": [
    "print(results.summary())"
   ]
  },
  {
   "cell_type": "code",
   "execution_count": 14,
   "metadata": {},
   "outputs": [],
   "source": [
    "model2 = smf.ols('weight ~ age + C(gender)', data = babies)  # the C() function makes categories\n",
    "# in our case, it doesn't make a difference because boys are 1 and girls are 2. (There are only 2 categories)"
   ]
  },
  {
   "cell_type": "code",
   "execution_count": 15,
   "metadata": {},
   "outputs": [],
   "source": [
    "results2 = model2.fit()"
   ]
  },
  {
   "cell_type": "code",
   "execution_count": 16,
   "metadata": {},
   "outputs": [
    {
     "name": "stdout",
     "output_type": "stream",
     "text": [
      "                            OLS Regression Results                            \n",
      "==============================================================================\n",
      "Dep. Variable:                 weight   R-squared:                       0.707\n",
      "Model:                            OLS   Adj. R-squared:                  0.705\n",
      "Method:                 Least Squares   F-statistic:                     477.0\n",
      "Date:                Wed, 23 May 2018   Prob (F-statistic):          3.47e-106\n",
      "Time:                        13:34:34   Log-Likelihood:                -582.83\n",
      "No. Observations:                 399   AIC:                             1172.\n",
      "Df Residuals:                     396   BIC:                             1184.\n",
      "Df Model:                           2                                         \n",
      "Covariance Type:            nonrobust                                         \n",
      "====================================================================================\n",
      "                       coef    std err          t      P>|t|      [0.025      0.975]\n",
      "------------------------------------------------------------------------------------\n",
      "Intercept            5.7181      0.113     50.484      0.000       5.495       5.941\n",
      "C(gender)[T.2.0]    -0.7327      0.105     -6.987      0.000      -0.939      -0.527\n",
      "age                  0.4363      0.014     30.102      0.000       0.408       0.465\n",
      "==============================================================================\n",
      "Omnibus:                       30.003   Durbin-Watson:                   1.873\n",
      "Prob(Omnibus):                  0.000   Jarque-Bera (JB):               48.571\n",
      "Skew:                           0.505   Prob(JB):                     2.84e-11\n",
      "Kurtosis:                       4.379   Cond. No.                         17.6\n",
      "==============================================================================\n",
      "\n",
      "Warnings:\n",
      "[1] Standard Errors assume that the covariance matrix of the errors is correctly specified.\n"
     ]
    }
   ],
   "source": [
    "print(results2.summary())"
   ]
  },
  {
   "cell_type": "markdown",
   "metadata": {},
   "source": [
    "## numpy array notation"
   ]
  },
  {
   "cell_type": "code",
   "execution_count": 21,
   "metadata": {},
   "outputs": [],
   "source": [
    "# create arrays for the X and for the y\n",
    "X = babies.loc[:,['age','gender']]\n",
    "y = babies.weight"
   ]
  },
  {
   "cell_type": "code",
   "execution_count": 22,
   "metadata": {},
   "outputs": [],
   "source": [
    "X = sm.add_constant(X)  # need to add a constant for the intercept term"
   ]
  },
  {
   "cell_type": "code",
   "execution_count": 23,
   "metadata": {},
   "outputs": [],
   "source": [
    "model3 = sm.OLS(y, X)"
   ]
  },
  {
   "cell_type": "code",
   "execution_count": 24,
   "metadata": {},
   "outputs": [],
   "source": [
    "results3 = model3.fit()"
   ]
  },
  {
   "cell_type": "code",
   "execution_count": 25,
   "metadata": {},
   "outputs": [
    {
     "name": "stdout",
     "output_type": "stream",
     "text": [
      "                            OLS Regression Results                            \n",
      "==============================================================================\n",
      "Dep. Variable:                 weight   R-squared:                       0.707\n",
      "Model:                            OLS   Adj. R-squared:                  0.705\n",
      "Method:                 Least Squares   F-statistic:                     477.0\n",
      "Date:                Wed, 23 May 2018   Prob (F-statistic):          3.47e-106\n",
      "Time:                        13:39:52   Log-Likelihood:                -582.83\n",
      "No. Observations:                 399   AIC:                             1172.\n",
      "Df Residuals:                     396   BIC:                             1184.\n",
      "Df Model:                           2                                         \n",
      "Covariance Type:            nonrobust                                         \n",
      "==============================================================================\n",
      "                 coef    std err          t      P>|t|      [0.025      0.975]\n",
      "------------------------------------------------------------------------------\n",
      "const          6.4509      0.188     34.386      0.000       6.082       6.820\n",
      "age            0.4363      0.014     30.102      0.000       0.408       0.465\n",
      "gender        -0.7327      0.105     -6.987      0.000      -0.939      -0.527\n",
      "==============================================================================\n",
      "Omnibus:                       30.003   Durbin-Watson:                   1.873\n",
      "Prob(Omnibus):                  0.000   Jarque-Bera (JB):               48.571\n",
      "Skew:                           0.505   Prob(JB):                     2.84e-11\n",
      "Kurtosis:                       4.379   Cond. No.                         28.1\n",
      "==============================================================================\n",
      "\n",
      "Warnings:\n",
      "[1] Standard Errors assume that the covariance matrix of the errors is correctly specified.\n"
     ]
    }
   ],
   "source": [
    "print(results3.summary())"
   ]
  },
  {
   "cell_type": "markdown",
   "metadata": {},
   "source": [
    "## the ANOVA table"
   ]
  },
  {
   "cell_type": "code",
   "execution_count": 27,
   "metadata": {},
   "outputs": [],
   "source": [
    "table = sm.stats.anova_lm(results)"
   ]
  },
  {
   "cell_type": "code",
   "execution_count": 28,
   "metadata": {},
   "outputs": [
    {
     "name": "stdout",
     "output_type": "stream",
     "text": [
      "             df      sum_sq     mean_sq           F         PR(>F)\n",
      "age         1.0  991.502398  991.502398  905.132967  2.449632e-104\n",
      "gender      1.0   53.481241   53.481241   48.822508   1.193519e-11\n",
      "Residual  396.0  433.787039    1.095422         NaN            NaN\n"
     ]
    }
   ],
   "source": [
    "print(table)"
   ]
  },
  {
   "cell_type": "markdown",
   "metadata": {},
   "source": [
    "## predictions"
   ]
  },
  {
   "cell_type": "code",
   "execution_count": 61,
   "metadata": {},
   "outputs": [],
   "source": [
    "x_new = {'age':4, 'gender':1}  # A dictionary to define the data of a 4 month old boy"
   ]
  },
  {
   "cell_type": "code",
   "execution_count": 62,
   "metadata": {},
   "outputs": [
    {
     "name": "stdout",
     "output_type": "stream",
     "text": [
      "{'age': 4, 'gender': 1}\n"
     ]
    }
   ],
   "source": [
    "print(x_new)"
   ]
  },
  {
   "cell_type": "code",
   "execution_count": 63,
   "metadata": {},
   "outputs": [
    {
     "data": {
      "text/plain": [
       "0    7.463456\n",
       "dtype: float64"
      ]
     },
     "execution_count": 63,
     "metadata": {},
     "output_type": "execute_result"
    }
   ],
   "source": [
    "results.predict(x_new)"
   ]
  },
  {
   "cell_type": "code",
   "execution_count": 66,
   "metadata": {},
   "outputs": [
    {
     "data": {
      "text/plain": [
       "0    4.985379\n",
       "dtype: float64"
      ]
     },
     "execution_count": 66,
     "metadata": {},
     "output_type": "execute_result"
    }
   ],
   "source": [
    "x_new = {'age':0, 'gender':2} # a 0 month old girl\n",
    "results.predict(x_new)"
   ]
  },
  {
   "cell_type": "code",
   "execution_count": 68,
   "metadata": {},
   "outputs": [
    {
     "data": {
      "text/plain": [
       "32       5.858045\n",
       "63       8.039710\n",
       "105      9.348708\n",
       "115      7.167044\n",
       "121      7.899789\n",
       "181     10.954119\n",
       "197      7.167044\n",
       "200      8.772454\n",
       "213      8.476043\n",
       "214      4.985379\n",
       "295      4.985379\n",
       "299      6.154457\n",
       "311      9.785041\n",
       "315      8.476043\n",
       "318      5.858045\n",
       "330      8.912376\n",
       "372     10.221374\n",
       "383      7.899789\n",
       "437      9.348708\n",
       "465     10.954119\n",
       "482      5.858045\n",
       "486      6.730711\n",
       "491      9.208787\n",
       "492      9.208787\n",
       "499      6.590790\n",
       "504      9.785041\n",
       "544      7.603377\n",
       "549     10.081453\n",
       "570     10.517786\n",
       "589      5.421712\n",
       "          ...    \n",
       "8749     8.912376\n",
       "8766     7.603377\n",
       "8790     6.730711\n",
       "8793     8.476043\n",
       "8805     9.645120\n",
       "8820     7.027123\n",
       "8857     9.785041\n",
       "8893    10.954119\n",
       "8930     7.603377\n",
       "8935     7.167044\n",
       "9012     6.154457\n",
       "9050     7.027123\n",
       "9056    10.517786\n",
       "9065     7.603377\n",
       "9079     7.899789\n",
       "9086    10.081453\n",
       "9156     5.718124\n",
       "9187     7.899789\n",
       "9229     9.785041\n",
       "9230     7.463456\n",
       "9249     9.348708\n",
       "9259     6.294378\n",
       "9275     7.899789\n",
       "9293     7.027123\n",
       "9344     6.730711\n",
       "9354     7.603377\n",
       "9388     8.772454\n",
       "9480     6.590790\n",
       "9529    10.954119\n",
       "9533    10.954119\n",
       "Length: 399, dtype: float64"
      ]
     },
     "execution_count": 68,
     "metadata": {},
     "output_type": "execute_result"
    }
   ],
   "source": [
    "results.predict(X)  # running the model on the entire X dataframe"
   ]
  },
  {
   "cell_type": "code",
   "execution_count": null,
   "metadata": {},
   "outputs": [],
   "source": []
  }
 ],
 "metadata": {
  "kernelspec": {
   "display_name": "Python 3",
   "language": "python",
   "name": "python3"
  },
  "language_info": {
   "codemirror_mode": {
    "name": "ipython",
    "version": 3
   },
   "file_extension": ".py",
   "mimetype": "text/x-python",
   "name": "python",
   "nbconvert_exporter": "python",
   "pygments_lexer": "ipython3",
   "version": "3.6.5"
  }
 },
 "nbformat": 4,
 "nbformat_minor": 2
}
