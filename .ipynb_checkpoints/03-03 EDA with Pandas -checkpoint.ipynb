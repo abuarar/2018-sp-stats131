{
 "cells": [
  {
   "cell_type": "code",
   "execution_count": 75,
   "metadata": {},
   "outputs": [],
   "source": [
    "import numpy as np\n",
    "import pandas as pd\n",
    "import matplotlib.pyplot as plt"
   ]
  },
  {
   "cell_type": "markdown",
   "metadata": {},
   "source": [
    "Let's read in some data"
   ]
  },
  {
   "cell_type": "code",
   "execution_count": 127,
   "metadata": {},
   "outputs": [],
   "source": [
    "df = pd.read_csv('nycflights.csv')"
   ]
  },
  {
   "cell_type": "markdown",
   "metadata": {},
   "source": [
    "We'll look at the head and some info about the dataset"
   ]
  },
  {
   "cell_type": "code",
   "execution_count": 128,
   "metadata": {},
   "outputs": [
    {
     "name": "stdout",
     "output_type": "stream",
     "text": [
      "   year  month  day  dep_time  sched_dep_time  dep_delay  arr_time  \\\n",
      "0  2013      1    1     517.0             515        2.0     830.0   \n",
      "1  2013      1    1     533.0             529        4.0     850.0   \n",
      "2  2013      1    1     542.0             540        2.0     923.0   \n",
      "3  2013      1    1     544.0             545       -1.0    1004.0   \n",
      "4  2013      1    1     554.0             600       -6.0     812.0   \n",
      "\n",
      "   sched_arr_time  arr_delay carrier  flight tailnum origin dest  air_time  \\\n",
      "0             819       11.0      UA    1545  N14228    EWR  IAH     227.0   \n",
      "1             830       20.0      UA    1714  N24211    LGA  IAH     227.0   \n",
      "2             850       33.0      AA    1141  N619AA    JFK  MIA     160.0   \n",
      "3            1022      -18.0      B6     725  N804JB    JFK  BQN     183.0   \n",
      "4             837      -25.0      DL     461  N668DN    LGA  ATL     116.0   \n",
      "\n",
      "   distance  hour  minute      time_hour  \n",
      "0      1400     5      15  1/1/2013 5:00  \n",
      "1      1416     5      29  1/1/2013 5:00  \n",
      "2      1089     5      40  1/1/2013 5:00  \n",
      "3      1576     5      45  1/1/2013 5:00  \n",
      "4       762     6       0  1/1/2013 6:00  \n"
     ]
    }
   ],
   "source": [
    "print(df.head())"
   ]
  },
  {
   "cell_type": "code",
   "execution_count": 129,
   "metadata": {},
   "outputs": [
    {
     "name": "stdout",
     "output_type": "stream",
     "text": [
      "<class 'pandas.core.frame.DataFrame'>\n",
      "RangeIndex: 336776 entries, 0 to 336775\n",
      "Data columns (total 19 columns):\n",
      "year              336776 non-null int64\n",
      "month             336776 non-null int64\n",
      "day               336776 non-null int64\n",
      "dep_time          328521 non-null float64\n",
      "sched_dep_time    336776 non-null int64\n",
      "dep_delay         328521 non-null float64\n",
      "arr_time          328063 non-null float64\n",
      "sched_arr_time    336776 non-null int64\n",
      "arr_delay         327346 non-null float64\n",
      "carrier           336776 non-null object\n",
      "flight            336776 non-null int64\n",
      "tailnum           334264 non-null object\n",
      "origin            336776 non-null object\n",
      "dest              336776 non-null object\n",
      "air_time          327346 non-null float64\n",
      "distance          336776 non-null int64\n",
      "hour              336776 non-null int64\n",
      "minute            336776 non-null int64\n",
      "time_hour         336776 non-null object\n",
      "dtypes: float64(5), int64(9), object(5)\n",
      "memory usage: 48.8+ MB\n"
     ]
    }
   ],
   "source": [
    "df.info()"
   ]
  },
  {
   "cell_type": "markdown",
   "metadata": {},
   "source": [
    "Lets try to fix up the time columns to be more time-like"
   ]
  },
  {
   "cell_type": "code",
   "execution_count": 150,
   "metadata": {},
   "outputs": [
    {
     "data": {
      "text/plain": [
       "(336776, 19)"
      ]
     },
     "execution_count": 150,
     "metadata": {},
     "output_type": "execute_result"
    }
   ],
   "source": [
    "df.shape"
   ]
  },
  {
   "cell_type": "code",
   "execution_count": 154,
   "metadata": {},
   "outputs": [
    {
     "name": "stdout",
     "output_type": "stream",
     "text": [
      "['EWR' 'LGA' 'JFK']\n"
     ]
    }
   ],
   "source": [
    "print(df['origin'].unique())"
   ]
  },
  {
   "cell_type": "code",
   "execution_count": 130,
   "metadata": {},
   "outputs": [],
   "source": [
    "df['date'] = df['year'].astype(str) + \"-\" + df['month'].astype(str) + \"-\" + df['day'].astype(str)"
   ]
  },
  {
   "cell_type": "code",
   "execution_count": 131,
   "metadata": {},
   "outputs": [
    {
     "name": "stdout",
     "output_type": "stream",
     "text": [
      "0    2013-1-1\n",
      "1    2013-1-1\n",
      "2    2013-1-1\n",
      "3    2013-1-1\n",
      "4    2013-1-1\n",
      "5    2013-1-1\n",
      "6    2013-1-1\n",
      "7    2013-1-1\n",
      "8    2013-1-1\n",
      "9    2013-1-1\n",
      "Name: date, dtype: object\n"
     ]
    }
   ],
   "source": [
    "print(df['date'][:10])"
   ]
  },
  {
   "cell_type": "code",
   "execution_count": 132,
   "metadata": {},
   "outputs": [],
   "source": [
    "df['date'] = pd.to_datetime(df['date'])"
   ]
  },
  {
   "cell_type": "code",
   "execution_count": 133,
   "metadata": {},
   "outputs": [
    {
     "name": "stdout",
     "output_type": "stream",
     "text": [
      "<class 'pandas.core.frame.DataFrame'>\n",
      "RangeIndex: 336776 entries, 0 to 336775\n",
      "Data columns (total 20 columns):\n",
      "year              336776 non-null int64\n",
      "month             336776 non-null int64\n",
      "day               336776 non-null int64\n",
      "dep_time          328521 non-null float64\n",
      "sched_dep_time    336776 non-null int64\n",
      "dep_delay         328521 non-null float64\n",
      "arr_time          328063 non-null float64\n",
      "sched_arr_time    336776 non-null int64\n",
      "arr_delay         327346 non-null float64\n",
      "carrier           336776 non-null object\n",
      "flight            336776 non-null int64\n",
      "tailnum           334264 non-null object\n",
      "origin            336776 non-null object\n",
      "dest              336776 non-null object\n",
      "air_time          327346 non-null float64\n",
      "distance          336776 non-null int64\n",
      "hour              336776 non-null int64\n",
      "minute            336776 non-null int64\n",
      "time_hour         336776 non-null object\n",
      "date              336776 non-null datetime64[ns]\n",
      "dtypes: datetime64[ns](1), float64(5), int64(9), object(5)\n",
      "memory usage: 51.4+ MB\n"
     ]
    }
   ],
   "source": [
    "df.info()"
   ]
  },
  {
   "cell_type": "code",
   "execution_count": 134,
   "metadata": {},
   "outputs": [],
   "source": [
    "df = df.set_index(['date'])"
   ]
  },
  {
   "cell_type": "code",
   "execution_count": 135,
   "metadata": {},
   "outputs": [
    {
     "data": {
      "text/plain": [
       "DatetimeIndex(['2013-01-01', '2013-01-01', '2013-01-01', '2013-01-01',\n",
       "               '2013-01-01', '2013-01-01', '2013-01-01', '2013-01-01',\n",
       "               '2013-01-01', '2013-01-01',\n",
       "               ...\n",
       "               '2013-09-30', '2013-09-30', '2013-09-30', '2013-09-30',\n",
       "               '2013-09-30', '2013-09-30', '2013-09-30', '2013-09-30',\n",
       "               '2013-09-30', '2013-09-30'],\n",
       "              dtype='datetime64[ns]', name='date', length=336776, freq=None)"
      ]
     },
     "execution_count": 135,
     "metadata": {},
     "output_type": "execute_result"
    }
   ],
   "source": [
    "df.index"
   ]
  },
  {
   "cell_type": "code",
   "execution_count": 136,
   "metadata": {},
   "outputs": [
    {
     "data": {
      "text/html": [
       "<div>\n",
       "<style scoped>\n",
       "    .dataframe tbody tr th:only-of-type {\n",
       "        vertical-align: middle;\n",
       "    }\n",
       "\n",
       "    .dataframe tbody tr th {\n",
       "        vertical-align: top;\n",
       "    }\n",
       "\n",
       "    .dataframe thead th {\n",
       "        text-align: right;\n",
       "    }\n",
       "</style>\n",
       "<table border=\"1\" class=\"dataframe\">\n",
       "  <thead>\n",
       "    <tr style=\"text-align: right;\">\n",
       "      <th></th>\n",
       "      <th>year</th>\n",
       "      <th>month</th>\n",
       "      <th>day</th>\n",
       "      <th>dep_time</th>\n",
       "      <th>sched_dep_time</th>\n",
       "      <th>dep_delay</th>\n",
       "      <th>arr_time</th>\n",
       "      <th>sched_arr_time</th>\n",
       "      <th>arr_delay</th>\n",
       "      <th>carrier</th>\n",
       "      <th>flight</th>\n",
       "      <th>tailnum</th>\n",
       "      <th>origin</th>\n",
       "      <th>dest</th>\n",
       "      <th>air_time</th>\n",
       "      <th>distance</th>\n",
       "      <th>hour</th>\n",
       "      <th>minute</th>\n",
       "      <th>time_hour</th>\n",
       "    </tr>\n",
       "    <tr>\n",
       "      <th>date</th>\n",
       "      <th></th>\n",
       "      <th></th>\n",
       "      <th></th>\n",
       "      <th></th>\n",
       "      <th></th>\n",
       "      <th></th>\n",
       "      <th></th>\n",
       "      <th></th>\n",
       "      <th></th>\n",
       "      <th></th>\n",
       "      <th></th>\n",
       "      <th></th>\n",
       "      <th></th>\n",
       "      <th></th>\n",
       "      <th></th>\n",
       "      <th></th>\n",
       "      <th></th>\n",
       "      <th></th>\n",
       "      <th></th>\n",
       "    </tr>\n",
       "  </thead>\n",
       "  <tbody>\n",
       "    <tr>\n",
       "      <th>2013-01-01</th>\n",
       "      <td>2013</td>\n",
       "      <td>1</td>\n",
       "      <td>1</td>\n",
       "      <td>517.0</td>\n",
       "      <td>515</td>\n",
       "      <td>2.0</td>\n",
       "      <td>830.0</td>\n",
       "      <td>819</td>\n",
       "      <td>11.0</td>\n",
       "      <td>UA</td>\n",
       "      <td>1545</td>\n",
       "      <td>N14228</td>\n",
       "      <td>EWR</td>\n",
       "      <td>IAH</td>\n",
       "      <td>227.0</td>\n",
       "      <td>1400</td>\n",
       "      <td>5</td>\n",
       "      <td>15</td>\n",
       "      <td>1/1/2013 5:00</td>\n",
       "    </tr>\n",
       "    <tr>\n",
       "      <th>2013-01-01</th>\n",
       "      <td>2013</td>\n",
       "      <td>1</td>\n",
       "      <td>1</td>\n",
       "      <td>533.0</td>\n",
       "      <td>529</td>\n",
       "      <td>4.0</td>\n",
       "      <td>850.0</td>\n",
       "      <td>830</td>\n",
       "      <td>20.0</td>\n",
       "      <td>UA</td>\n",
       "      <td>1714</td>\n",
       "      <td>N24211</td>\n",
       "      <td>LGA</td>\n",
       "      <td>IAH</td>\n",
       "      <td>227.0</td>\n",
       "      <td>1416</td>\n",
       "      <td>5</td>\n",
       "      <td>29</td>\n",
       "      <td>1/1/2013 5:00</td>\n",
       "    </tr>\n",
       "    <tr>\n",
       "      <th>2013-01-01</th>\n",
       "      <td>2013</td>\n",
       "      <td>1</td>\n",
       "      <td>1</td>\n",
       "      <td>542.0</td>\n",
       "      <td>540</td>\n",
       "      <td>2.0</td>\n",
       "      <td>923.0</td>\n",
       "      <td>850</td>\n",
       "      <td>33.0</td>\n",
       "      <td>AA</td>\n",
       "      <td>1141</td>\n",
       "      <td>N619AA</td>\n",
       "      <td>JFK</td>\n",
       "      <td>MIA</td>\n",
       "      <td>160.0</td>\n",
       "      <td>1089</td>\n",
       "      <td>5</td>\n",
       "      <td>40</td>\n",
       "      <td>1/1/2013 5:00</td>\n",
       "    </tr>\n",
       "    <tr>\n",
       "      <th>2013-01-01</th>\n",
       "      <td>2013</td>\n",
       "      <td>1</td>\n",
       "      <td>1</td>\n",
       "      <td>544.0</td>\n",
       "      <td>545</td>\n",
       "      <td>-1.0</td>\n",
       "      <td>1004.0</td>\n",
       "      <td>1022</td>\n",
       "      <td>-18.0</td>\n",
       "      <td>B6</td>\n",
       "      <td>725</td>\n",
       "      <td>N804JB</td>\n",
       "      <td>JFK</td>\n",
       "      <td>BQN</td>\n",
       "      <td>183.0</td>\n",
       "      <td>1576</td>\n",
       "      <td>5</td>\n",
       "      <td>45</td>\n",
       "      <td>1/1/2013 5:00</td>\n",
       "    </tr>\n",
       "    <tr>\n",
       "      <th>2013-01-01</th>\n",
       "      <td>2013</td>\n",
       "      <td>1</td>\n",
       "      <td>1</td>\n",
       "      <td>554.0</td>\n",
       "      <td>600</td>\n",
       "      <td>-6.0</td>\n",
       "      <td>812.0</td>\n",
       "      <td>837</td>\n",
       "      <td>-25.0</td>\n",
       "      <td>DL</td>\n",
       "      <td>461</td>\n",
       "      <td>N668DN</td>\n",
       "      <td>LGA</td>\n",
       "      <td>ATL</td>\n",
       "      <td>116.0</td>\n",
       "      <td>762</td>\n",
       "      <td>6</td>\n",
       "      <td>0</td>\n",
       "      <td>1/1/2013 6:00</td>\n",
       "    </tr>\n",
       "  </tbody>\n",
       "</table>\n",
       "</div>"
      ],
      "text/plain": [
       "            year  month  day  dep_time  sched_dep_time  dep_delay  arr_time  \\\n",
       "date                                                                          \n",
       "2013-01-01  2013      1    1     517.0             515        2.0     830.0   \n",
       "2013-01-01  2013      1    1     533.0             529        4.0     850.0   \n",
       "2013-01-01  2013      1    1     542.0             540        2.0     923.0   \n",
       "2013-01-01  2013      1    1     544.0             545       -1.0    1004.0   \n",
       "2013-01-01  2013      1    1     554.0             600       -6.0     812.0   \n",
       "\n",
       "            sched_arr_time  arr_delay carrier  flight tailnum origin dest  \\\n",
       "date                                                                        \n",
       "2013-01-01             819       11.0      UA    1545  N14228    EWR  IAH   \n",
       "2013-01-01             830       20.0      UA    1714  N24211    LGA  IAH   \n",
       "2013-01-01             850       33.0      AA    1141  N619AA    JFK  MIA   \n",
       "2013-01-01            1022      -18.0      B6     725  N804JB    JFK  BQN   \n",
       "2013-01-01             837      -25.0      DL     461  N668DN    LGA  ATL   \n",
       "\n",
       "            air_time  distance  hour  minute      time_hour  \n",
       "date                                                         \n",
       "2013-01-01     227.0      1400     5      15  1/1/2013 5:00  \n",
       "2013-01-01     227.0      1416     5      29  1/1/2013 5:00  \n",
       "2013-01-01     160.0      1089     5      40  1/1/2013 5:00  \n",
       "2013-01-01     183.0      1576     5      45  1/1/2013 5:00  \n",
       "2013-01-01     116.0       762     6       0  1/1/2013 6:00  "
      ]
     },
     "execution_count": 136,
     "metadata": {},
     "output_type": "execute_result"
    }
   ],
   "source": [
    "df.head()"
   ]
  },
  {
   "cell_type": "code",
   "execution_count": 139,
   "metadata": {},
   "outputs": [
    {
     "data": {
      "text/plain": [
       "<pandas.core.groupby.DataFrameGroupBy object at 0x0000022C59FC1400>"
      ]
     },
     "execution_count": 139,
     "metadata": {},
     "output_type": "execute_result"
    }
   ],
   "source": [
    "df.groupby('carrier')"
   ]
  },
  {
   "cell_type": "code",
   "execution_count": 140,
   "metadata": {},
   "outputs": [
    {
     "data": {
      "text/plain": [
       "<pandas.core.groupby.SeriesGroupBy object at 0x0000022C59FC10B8>"
      ]
     },
     "execution_count": 140,
     "metadata": {},
     "output_type": "execute_result"
    }
   ],
   "source": [
    "df.groupby('carrier')['dest']"
   ]
  },
  {
   "cell_type": "code",
   "execution_count": 147,
   "metadata": {},
   "outputs": [
    {
     "data": {
      "text/plain": [
       "carrier\n",
       "9E    [MSP, IAD, BUF, SYR, ROC, BWI, ORD, IND, BNA, ...\n",
       "AA    [MIA, ORD, DFW, SJU, MCO, FLL, LAX, SFO, BOS, ...\n",
       "AS                                                [SEA]\n",
       "B6    [BQN, FLL, MCO, PBI, TPA, BOS, RSW, SJU, BUF, ...\n",
       "DL    [ATL, MSP, PBI, SLC, SFO, MIA, FLL, DTW, SEA, ...\n",
       "EV    [IAD, MSP, JAX, CHS, MEM, CLE, MYR, RDU, DCA, ...\n",
       "F9                                                [DEN]\n",
       "FL                                      [MKE, ATL, CAK]\n",
       "HA                                                [HNL]\n",
       "MQ    [ATL, DTW, ORD, MSP, XNA, RDU, CMH, CLT, DCA, ...\n",
       "OO                            [ORD, MSP, IAD, DTW, CLE]\n",
       "UA    [IAH, ORD, LAX, SFO, LAS, MIA, PBI, FLL, DEN, ...\n",
       "US                       [PHX, CLT, PHL, DCA, BOS, LGA]\n",
       "VX                            [LAX, SFO, LAS, PSP, SJC]\n",
       "WN    [BWI, DEN, MDW, MKE, STL, HOU, PHX, BNA, AUS, ...\n",
       "YV                                      [IAD, CLT, PHL]\n",
       "Name: dest, dtype: object"
      ]
     },
     "execution_count": 147,
     "metadata": {},
     "output_type": "execute_result"
    }
   ],
   "source": [
    "df.groupby('carrier')['dest'].unique()"
   ]
  },
  {
   "cell_type": "code",
   "execution_count": 149,
   "metadata": {},
   "outputs": [
    {
     "data": {
      "text/plain": [
       "carrier\n",
       "9E    [JFK, EWR, LGA]\n",
       "AA    [JFK, LGA, EWR]\n",
       "AS              [EWR]\n",
       "B6    [JFK, EWR, LGA]\n",
       "DL    [LGA, JFK, EWR]\n",
       "EV    [LGA, EWR, JFK]\n",
       "F9              [LGA]\n",
       "FL              [LGA]\n",
       "HA              [JFK]\n",
       "MQ    [LGA, EWR, JFK]\n",
       "OO         [LGA, EWR]\n",
       "UA    [EWR, LGA, JFK]\n",
       "US    [EWR, JFK, LGA]\n",
       "VX         [JFK, EWR]\n",
       "WN         [LGA, EWR]\n",
       "YV              [LGA]\n",
       "Name: origin, dtype: object"
      ]
     },
     "execution_count": 149,
     "metadata": {},
     "output_type": "execute_result"
    }
   ],
   "source": [
    "df.groupby('carrier')['origin'].unique()"
   ]
  },
  {
   "cell_type": "code",
   "execution_count": 168,
   "metadata": {},
   "outputs": [
    {
     "name": "stdout",
     "output_type": "stream",
     "text": [
      "origin\n",
      "EWR    117596\n",
      "JFK    109416\n",
      "LGA    101509\n",
      "Name: dep_time, dtype: int64\n",
      "origin\n",
      "EWR    120835\n",
      "JFK    111279\n",
      "LGA    104662\n",
      "Name: dest, dtype: int64\n"
     ]
    }
   ],
   "source": [
    "# busiest origin?\n",
    "print(df.groupby('origin')['dep_time'].count())  # has NaNs, and they are not counted\n",
    "print(df.groupby('origin')['dest'].count()) # no NaNs"
   ]
  },
  {
   "cell_type": "code",
   "execution_count": 159,
   "metadata": {},
   "outputs": [],
   "source": [
    "lax_df = df[ df['dest']=='LAX']"
   ]
  },
  {
   "cell_type": "code",
   "execution_count": 160,
   "metadata": {},
   "outputs": [
    {
     "name": "stdout",
     "output_type": "stream",
     "text": [
      "<class 'pandas.core.frame.DataFrame'>\n",
      "DatetimeIndex: 16174 entries, 2013-01-01 to 2013-09-30\n",
      "Data columns (total 19 columns):\n",
      "year              16174 non-null int64\n",
      "month             16174 non-null int64\n",
      "day               16174 non-null int64\n",
      "dep_time          16076 non-null float64\n",
      "sched_dep_time    16174 non-null int64\n",
      "dep_delay         16076 non-null float64\n",
      "arr_time          16058 non-null float64\n",
      "sched_arr_time    16174 non-null int64\n",
      "arr_delay         16026 non-null float64\n",
      "carrier           16174 non-null object\n",
      "flight            16174 non-null int64\n",
      "tailnum           16125 non-null object\n",
      "origin            16174 non-null object\n",
      "dest              16174 non-null object\n",
      "air_time          16026 non-null float64\n",
      "distance          16174 non-null int64\n",
      "hour              16174 non-null int64\n",
      "minute            16174 non-null int64\n",
      "time_hour         16174 non-null object\n",
      "dtypes: float64(5), int64(9), object(5)\n",
      "memory usage: 2.5+ MB\n"
     ]
    }
   ],
   "source": [
    "lax_df.info()"
   ]
  },
  {
   "cell_type": "code",
   "execution_count": 162,
   "metadata": {},
   "outputs": [
    {
     "data": {
      "text/plain": [
       "16174"
      ]
     },
     "execution_count": 162,
     "metadata": {},
     "output_type": "execute_result"
    }
   ],
   "source": [
    "sum(df['dest'] == 'LAX')"
   ]
  },
  {
   "cell_type": "code",
   "execution_count": null,
   "metadata": {},
   "outputs": [],
   "source": []
  }
 ],
 "metadata": {
  "kernelspec": {
   "display_name": "Python 3",
   "language": "python",
   "name": "python3"
  },
  "language_info": {
   "codemirror_mode": {
    "name": "ipython",
    "version": 3
   },
   "file_extension": ".py",
   "mimetype": "text/x-python",
   "name": "python",
   "nbconvert_exporter": "python",
   "pygments_lexer": "ipython3",
   "version": "3.6.5"
  }
 },
 "nbformat": 4,
 "nbformat_minor": 2
}
