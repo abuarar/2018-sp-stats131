{
 "cells": [
  {
   "cell_type": "code",
   "execution_count": 1,
   "metadata": {},
   "outputs": [],
   "source": [
    "import pandas as pd\n",
    "import matplotlib.pyplot as plt\n",
    "import numpy as np"
   ]
  },
  {
   "cell_type": "code",
   "execution_count": 2,
   "metadata": {},
   "outputs": [],
   "source": [
    "# pd.melt is similar to tidyr's gather function"
   ]
  },
  {
   "cell_type": "code",
   "execution_count": 2,
   "metadata": {},
   "outputs": [],
   "source": [
    "name = ['daniel','john','jane']\n",
    "trA = [np.NaN, 12, 24]\n",
    "trB = [42, 31, 27]"
   ]
  },
  {
   "cell_type": "code",
   "execution_count": 4,
   "metadata": {},
   "outputs": [
    {
     "name": "stdout",
     "output_type": "stream",
     "text": [
      "     name  treatment A  treatment B\n",
      "0  daniel          NaN           42\n",
      "1    john         12.0           31\n",
      "2    jane         24.0           27\n"
     ]
    }
   ],
   "source": [
    "df = pd.DataFrame({'name': name, 'treatment A': trA, 'treatment B': trB})\n",
    "print(df)"
   ]
  },
  {
   "cell_type": "code",
   "execution_count": 8,
   "metadata": {},
   "outputs": [
    {
     "name": "stdout",
     "output_type": "stream",
     "text": [
      "     name    treatment  result\n",
      "0  daniel  treatment A     NaN\n",
      "1    john  treatment A    12.0\n",
      "2    jane  treatment A    24.0\n",
      "3  daniel  treatment B    42.0\n",
      "4    john  treatment B    31.0\n",
      "5    jane  treatment B    27.0\n"
     ]
    }
   ],
   "source": [
    "# we call pd.melt\n",
    "melted = pd.melt(frame = df, id_vars='name', \n",
    "                 value_vars=['treatment A', 'treatment B'],\n",
    "                 var_name='treatment', value_name='result') # you can provide column names\n",
    "print(melted)"
   ]
  },
  {
   "cell_type": "code",
   "execution_count": 9,
   "metadata": {},
   "outputs": [
    {
     "name": "stdout",
     "output_type": "stream",
     "text": [
      "     name     variable  value\n",
      "0  daniel  treatment A    NaN\n",
      "1    john  treatment A   12.0\n",
      "2    jane  treatment A   24.0\n",
      "3  daniel  treatment B   42.0\n",
      "4    john  treatment B   31.0\n",
      "5    jane  treatment B   27.0\n"
     ]
    }
   ],
   "source": [
    "print(pd.melt(df, id_vars = 'name')) # if you only provide id_vars, then it will melt all other columns"
   ]
  },
  {
   "cell_type": "code",
   "execution_count": 1,
   "metadata": {},
   "outputs": [],
   "source": [
    "# the df.pivot() method is similar to tidyr's spread function"
   ]
  },
  {
   "cell_type": "code",
   "execution_count": 10,
   "metadata": {},
   "outputs": [
    {
     "data": {
      "text/html": [
       "<div>\n",
       "<style scoped>\n",
       "    .dataframe tbody tr th:only-of-type {\n",
       "        vertical-align: middle;\n",
       "    }\n",
       "\n",
       "    .dataframe tbody tr th {\n",
       "        vertical-align: top;\n",
       "    }\n",
       "\n",
       "    .dataframe thead th {\n",
       "        text-align: right;\n",
       "    }\n",
       "</style>\n",
       "<table border=\"1\" class=\"dataframe\">\n",
       "  <thead>\n",
       "    <tr style=\"text-align: right;\">\n",
       "      <th>treatment</th>\n",
       "      <th>treatment A</th>\n",
       "      <th>treatment B</th>\n",
       "    </tr>\n",
       "    <tr>\n",
       "      <th>name</th>\n",
       "      <th></th>\n",
       "      <th></th>\n",
       "    </tr>\n",
       "  </thead>\n",
       "  <tbody>\n",
       "    <tr>\n",
       "      <th>daniel</th>\n",
       "      <td>NaN</td>\n",
       "      <td>42.0</td>\n",
       "    </tr>\n",
       "    <tr>\n",
       "      <th>jane</th>\n",
       "      <td>24.0</td>\n",
       "      <td>27.0</td>\n",
       "    </tr>\n",
       "    <tr>\n",
       "      <th>john</th>\n",
       "      <td>12.0</td>\n",
       "      <td>31.0</td>\n",
       "    </tr>\n",
       "  </tbody>\n",
       "</table>\n",
       "</div>"
      ],
      "text/plain": [
       "treatment  treatment A  treatment B\n",
       "name                               \n",
       "daniel             NaN         42.0\n",
       "jane              24.0         27.0\n",
       "john              12.0         31.0"
      ]
     },
     "execution_count": 10,
     "metadata": {},
     "output_type": "execute_result"
    }
   ],
   "source": [
    "melted.pivot(index='name', columns = 'treatment', values = 'result')   # note we call pivot on the data frame itself"
   ]
  },
  {
   "cell_type": "code",
   "execution_count": null,
   "metadata": {},
   "outputs": [],
   "source": [
    "# creating a new variable"
   ]
  },
  {
   "cell_type": "code",
   "execution_count": 36,
   "metadata": {},
   "outputs": [
    {
     "name": "stdout",
     "output_type": "stream",
     "text": [
      "     name    treatment  result\n",
      "0  daniel  treatment A     NaN\n",
      "1    john  treatment A    12.0\n",
      "2    jane  treatment A    24.0\n",
      "3  daniel  treatment B    42.0\n",
      "4    john  treatment B    31.0\n",
      "5    jane  treatment B    27.0\n"
     ]
    }
   ],
   "source": [
    "print(melted)"
   ]
  },
  {
   "cell_type": "code",
   "execution_count": 39,
   "metadata": {},
   "outputs": [],
   "source": [
    "# you can create a new variable by defining a new column\n",
    "melted['gender'] = ['m','m','f','m','m','f']"
   ]
  },
  {
   "cell_type": "code",
   "execution_count": 40,
   "metadata": {},
   "outputs": [
    {
     "name": "stdout",
     "output_type": "stream",
     "text": [
      "     name    treatment  result gender\n",
      "0  daniel  treatment A     NaN      m\n",
      "1    john  treatment A    12.0      m\n",
      "2    jane  treatment A    24.0      f\n",
      "3  daniel  treatment B    42.0      m\n",
      "4    john  treatment B    31.0      m\n",
      "5    jane  treatment B    27.0      f\n"
     ]
    }
   ],
   "source": [
    "print(melted)"
   ]
  },
  {
   "cell_type": "code",
   "execution_count": 36,
   "metadata": {},
   "outputs": [
    {
     "data": {
      "text/plain": [
       "0    an\n",
       "1    .0\n",
       "2    .0\n",
       "3    .0\n",
       "4    .0\n",
       "5    .0\n",
       "Name: result, dtype: object"
      ]
     },
     "execution_count": 36,
     "metadata": {},
     "output_type": "execute_result"
    }
   ],
   "source": [
    "melted.result.astype('str').str[-2:]  # .astype makes a series.\n",
    "# .str allows for string operators"
   ]
  },
  {
   "cell_type": "code",
   "execution_count": 40,
   "metadata": {},
   "outputs": [
    {
     "name": "stdout",
     "output_type": "stream",
     "text": [
      "     name    treatment  result trt\n",
      "0  daniel  treatment A     NaN   A\n",
      "1    john  treatment A    12.0   A\n",
      "2    jane  treatment A    24.0   A\n",
      "3  daniel  treatment B    42.0   B\n",
      "4    john  treatment B    31.0   B\n",
      "5    jane  treatment B    27.0   B\n"
     ]
    }
   ],
   "source": [
    "melted['trt'] = melted.treatment.str[-1]  # The last letter from the treatment column, as an abreviation for the treatment\n",
    "print(melted)"
   ]
  },
  {
   "cell_type": "code",
   "execution_count": 43,
   "metadata": {},
   "outputs": [
    {
     "data": {
      "text/plain": [
       "0    daniel - A\n",
       "1      john - A\n",
       "2      jane - A\n",
       "3    daniel - B\n",
       "4      john - B\n",
       "5      jane - B\n",
       "dtype: object"
      ]
     },
     "execution_count": 43,
     "metadata": {},
     "output_type": "execute_result"
    }
   ],
   "source": [
    "melted.name.str[:] + \" - \" +  melted.trt.str[:]"
   ]
  },
  {
   "cell_type": "code",
   "execution_count": 45,
   "metadata": {},
   "outputs": [
    {
     "name": "stdout",
     "output_type": "stream",
     "text": [
      "    name  treatment A  treatment B\n",
      "0    amy           20           30\n",
      "1  betty           18           38\n",
      "2   carl           10           28\n"
     ]
    }
   ],
   "source": [
    "# pd.concat to concatenate tables:\n",
    "name2 = ['amy','betty','carl']\n",
    "trA2 = [20, 18, 10]\n",
    "trB2 = [30, 38, 28]\n",
    "df2 = pd.DataFrame({'name': name2, 'treatment A': trA2, 'treatment B': trB2})\n",
    "print(df2)"
   ]
  },
  {
   "cell_type": "code",
   "execution_count": 46,
   "metadata": {},
   "outputs": [
    {
     "name": "stdout",
     "output_type": "stream",
     "text": [
      "     name  treatment A  treatment B\n",
      "0  daniel          NaN           42\n",
      "1    john         12.0           31\n",
      "2    jane         24.0           27\n"
     ]
    }
   ],
   "source": [
    "print(df)"
   ]
  },
  {
   "cell_type": "code",
   "execution_count": 47,
   "metadata": {},
   "outputs": [
    {
     "data": {
      "text/html": [
       "<div>\n",
       "<style scoped>\n",
       "    .dataframe tbody tr th:only-of-type {\n",
       "        vertical-align: middle;\n",
       "    }\n",
       "\n",
       "    .dataframe tbody tr th {\n",
       "        vertical-align: top;\n",
       "    }\n",
       "\n",
       "    .dataframe thead th {\n",
       "        text-align: right;\n",
       "    }\n",
       "</style>\n",
       "<table border=\"1\" class=\"dataframe\">\n",
       "  <thead>\n",
       "    <tr style=\"text-align: right;\">\n",
       "      <th></th>\n",
       "      <th>name</th>\n",
       "      <th>treatment A</th>\n",
       "      <th>treatment B</th>\n",
       "    </tr>\n",
       "  </thead>\n",
       "  <tbody>\n",
       "    <tr>\n",
       "      <th>0</th>\n",
       "      <td>daniel</td>\n",
       "      <td>NaN</td>\n",
       "      <td>42</td>\n",
       "    </tr>\n",
       "    <tr>\n",
       "      <th>1</th>\n",
       "      <td>john</td>\n",
       "      <td>12.0</td>\n",
       "      <td>31</td>\n",
       "    </tr>\n",
       "    <tr>\n",
       "      <th>2</th>\n",
       "      <td>jane</td>\n",
       "      <td>24.0</td>\n",
       "      <td>27</td>\n",
       "    </tr>\n",
       "    <tr>\n",
       "      <th>0</th>\n",
       "      <td>amy</td>\n",
       "      <td>20.0</td>\n",
       "      <td>30</td>\n",
       "    </tr>\n",
       "    <tr>\n",
       "      <th>1</th>\n",
       "      <td>betty</td>\n",
       "      <td>18.0</td>\n",
       "      <td>38</td>\n",
       "    </tr>\n",
       "    <tr>\n",
       "      <th>2</th>\n",
       "      <td>carl</td>\n",
       "      <td>10.0</td>\n",
       "      <td>28</td>\n",
       "    </tr>\n",
       "  </tbody>\n",
       "</table>\n",
       "</div>"
      ],
      "text/plain": [
       "     name  treatment A  treatment B\n",
       "0  daniel          NaN           42\n",
       "1    john         12.0           31\n",
       "2    jane         24.0           27\n",
       "0     amy         20.0           30\n",
       "1   betty         18.0           38\n",
       "2    carl         10.0           28"
      ]
     },
     "execution_count": 47,
     "metadata": {},
     "output_type": "execute_result"
    }
   ],
   "source": [
    "pd.concat([df, df2])  # call pd.concat. provide it a *list* of data frames, not the dataframe directly\n",
    "# similar to rbind in R"
   ]
  },
  {
   "cell_type": "code",
   "execution_count": 48,
   "metadata": {},
   "outputs": [
    {
     "data": {
      "text/html": [
       "<div>\n",
       "<style scoped>\n",
       "    .dataframe tbody tr th:only-of-type {\n",
       "        vertical-align: middle;\n",
       "    }\n",
       "\n",
       "    .dataframe tbody tr th {\n",
       "        vertical-align: top;\n",
       "    }\n",
       "\n",
       "    .dataframe thead th {\n",
       "        text-align: right;\n",
       "    }\n",
       "</style>\n",
       "<table border=\"1\" class=\"dataframe\">\n",
       "  <thead>\n",
       "    <tr style=\"text-align: right;\">\n",
       "      <th></th>\n",
       "      <th>name</th>\n",
       "      <th>treatment A</th>\n",
       "      <th>treatment B</th>\n",
       "    </tr>\n",
       "  </thead>\n",
       "  <tbody>\n",
       "    <tr>\n",
       "      <th>0</th>\n",
       "      <td>daniel</td>\n",
       "      <td>NaN</td>\n",
       "      <td>42</td>\n",
       "    </tr>\n",
       "    <tr>\n",
       "      <th>0</th>\n",
       "      <td>amy</td>\n",
       "      <td>20.0</td>\n",
       "      <td>30</td>\n",
       "    </tr>\n",
       "  </tbody>\n",
       "</table>\n",
       "</div>"
      ],
      "text/plain": [
       "     name  treatment A  treatment B\n",
       "0  daniel          NaN           42\n",
       "0     amy         20.0           30"
      ]
     },
     "execution_count": 48,
     "metadata": {},
     "output_type": "execute_result"
    }
   ],
   "source": [
    "# when we use pd. concat, the original indexes are kept.\n",
    "concatenated = pd.concat([df, df2]) \n",
    "concatenated.loc[0,]  # returns two rows"
   ]
  },
  {
   "cell_type": "code",
   "execution_count": 58,
   "metadata": {},
   "outputs": [
    {
     "name": "stdout",
     "output_type": "stream",
     "text": [
      "    name  treatment A  treatment B\n",
      "0    amy         20.0           30\n",
      "1  betty         18.0           38\n"
     ]
    }
   ],
   "source": [
    "print(concatenated.iloc[3:5,])  # iloc is unaffected"
   ]
  },
  {
   "cell_type": "code",
   "execution_count": 59,
   "metadata": {},
   "outputs": [
    {
     "name": "stdout",
     "output_type": "stream",
     "text": [
      "name           amy\n",
      "treatment A     20\n",
      "treatment B     30\n",
      "Name: 0, dtype: object\n"
     ]
    }
   ],
   "source": [
    "print(concatenated.iloc[3,])  # iloc is unaffected, # returning only one row reduces to a series"
   ]
  },
  {
   "cell_type": "code",
   "execution_count": 49,
   "metadata": {},
   "outputs": [
    {
     "name": "stdout",
     "output_type": "stream",
     "text": [
      "Int64Index([0, 1, 2, 0, 1, 2], dtype='int64')\n"
     ]
    }
   ],
   "source": [
    "print(concatenated.index)"
   ]
  },
  {
   "cell_type": "code",
   "execution_count": 66,
   "metadata": {},
   "outputs": [
    {
     "name": "stdout",
     "output_type": "stream",
     "text": [
      "     name  treatment A  treatment B\n",
      "0  daniel          NaN           42\n",
      "1    john         12.0           31\n",
      "2    jane         24.0           27\n",
      "3     amy         20.0           30\n",
      "4   betty         18.0           38\n",
      "5    carl         10.0           28\n"
     ]
    }
   ],
   "source": [
    "# you can reset the index during the concatenation process with ignore_index = True\n",
    "concat2 = pd.concat([df, df2], ignore_index = True)\n",
    "print(concat2)"
   ]
  },
  {
   "cell_type": "markdown",
   "metadata": {},
   "source": [
    "## importing multiple files with pattern matching\n",
    "Could be useful if you are downloading several files with similar formats from a website (e.g. one for each month) "
   ]
  },
  {
   "cell_type": "code",
   "execution_count": 61,
   "metadata": {},
   "outputs": [],
   "source": [
    "import glob  # import this module"
   ]
  },
  {
   "cell_type": "code",
   "execution_count": 63,
   "metadata": {
    "scrolled": true
   },
   "outputs": [
    {
     "name": "stdout",
     "output_type": "stream",
     "text": [
      "['example1.csv', 'example2.csv', 'example3.csv']\n"
     ]
    }
   ],
   "source": [
    "filenames = glob.glob('exa*.csv')  # use to find filenames in your working directory that fit the pattern\n",
    "print(filenames)"
   ]
  },
  {
   "cell_type": "code",
   "execution_count": 70,
   "metadata": {},
   "outputs": [],
   "source": [
    "list_data = []  # create empty list. This will be a list of dataframes\n",
    "\n",
    "for file in filenames:\n",
    "    data = pd.read_csv(file, header = 0)\n",
    "    data['month'] = file   # append a column with the filename\n",
    "    list_data.append(data)"
   ]
  },
  {
   "cell_type": "code",
   "execution_count": 71,
   "metadata": {},
   "outputs": [
    {
     "name": "stdout",
     "output_type": "stream",
     "text": [
      "[   id treatment gender  response         month\n",
      "0   1         A      F         5  example1.csv\n",
      "1   2         A      M         3  example1.csv\n",
      "2   3         A      M         8  example1.csv\n",
      "3   4         A      F         9  example1.csv\n",
      "4   5         B      F         1  example1.csv\n",
      "5   6         B      M         8  example1.csv\n",
      "6   7         B      F         4  example1.csv\n",
      "7   8         B      F         6  example1.csv,    id treatment gender  response         month\n",
      "0   1         A      F         2  example2.csv\n",
      "1   2         A      M         2  example2.csv\n",
      "2   3         A      M         2  example2.csv\n",
      "3   4         A      F         2  example2.csv\n",
      "4   5         B      F         2  example2.csv\n",
      "5   6         B      M         2  example2.csv\n",
      "6   7         B      F         2  example2.csv\n",
      "7   8         B      F         2  example2.csv,    id treatment gender  response         month\n",
      "0   1         A      F         3  example3.csv\n",
      "1   2         A      M         3  example3.csv\n",
      "2   3         A      M         3  example3.csv\n",
      "3   4         A      F         3  example3.csv\n",
      "4   5         B      F         3  example3.csv\n",
      "5   6         B      M         3  example3.csv\n",
      "6   7         B      F         3  example3.csv\n",
      "7   8         B      F         3  example3.csv]\n"
     ]
    }
   ],
   "source": [
    "print(list_data)  # this is a list of data frames"
   ]
  },
  {
   "cell_type": "code",
   "execution_count": 72,
   "metadata": {},
   "outputs": [
    {
     "name": "stdout",
     "output_type": "stream",
     "text": [
      "   id treatment gender  response         month\n",
      "0   1         A      F         5  example1.csv\n",
      "1   2         A      M         3  example1.csv\n",
      "2   3         A      M         8  example1.csv\n",
      "3   4         A      F         9  example1.csv\n",
      "4   5         B      F         1  example1.csv\n",
      "5   6         B      M         8  example1.csv\n",
      "6   7         B      F         4  example1.csv\n",
      "7   8         B      F         6  example1.csv\n",
      "<class 'pandas.core.frame.DataFrame'>\n"
     ]
    }
   ],
   "source": [
    "print(list_data[0])\n",
    "print(type(list_data[0]))"
   ]
  },
  {
   "cell_type": "code",
   "execution_count": 73,
   "metadata": {},
   "outputs": [
    {
     "data": {
      "text/html": [
       "<div>\n",
       "<style scoped>\n",
       "    .dataframe tbody tr th:only-of-type {\n",
       "        vertical-align: middle;\n",
       "    }\n",
       "\n",
       "    .dataframe tbody tr th {\n",
       "        vertical-align: top;\n",
       "    }\n",
       "\n",
       "    .dataframe thead th {\n",
       "        text-align: right;\n",
       "    }\n",
       "</style>\n",
       "<table border=\"1\" class=\"dataframe\">\n",
       "  <thead>\n",
       "    <tr style=\"text-align: right;\">\n",
       "      <th></th>\n",
       "      <th>id</th>\n",
       "      <th>treatment</th>\n",
       "      <th>gender</th>\n",
       "      <th>response</th>\n",
       "      <th>month</th>\n",
       "    </tr>\n",
       "  </thead>\n",
       "  <tbody>\n",
       "    <tr>\n",
       "      <th>0</th>\n",
       "      <td>1</td>\n",
       "      <td>A</td>\n",
       "      <td>F</td>\n",
       "      <td>5</td>\n",
       "      <td>example1.csv</td>\n",
       "    </tr>\n",
       "    <tr>\n",
       "      <th>1</th>\n",
       "      <td>2</td>\n",
       "      <td>A</td>\n",
       "      <td>M</td>\n",
       "      <td>3</td>\n",
       "      <td>example1.csv</td>\n",
       "    </tr>\n",
       "    <tr>\n",
       "      <th>2</th>\n",
       "      <td>3</td>\n",
       "      <td>A</td>\n",
       "      <td>M</td>\n",
       "      <td>8</td>\n",
       "      <td>example1.csv</td>\n",
       "    </tr>\n",
       "    <tr>\n",
       "      <th>3</th>\n",
       "      <td>4</td>\n",
       "      <td>A</td>\n",
       "      <td>F</td>\n",
       "      <td>9</td>\n",
       "      <td>example1.csv</td>\n",
       "    </tr>\n",
       "    <tr>\n",
       "      <th>4</th>\n",
       "      <td>5</td>\n",
       "      <td>B</td>\n",
       "      <td>F</td>\n",
       "      <td>1</td>\n",
       "      <td>example1.csv</td>\n",
       "    </tr>\n",
       "    <tr>\n",
       "      <th>5</th>\n",
       "      <td>6</td>\n",
       "      <td>B</td>\n",
       "      <td>M</td>\n",
       "      <td>8</td>\n",
       "      <td>example1.csv</td>\n",
       "    </tr>\n",
       "    <tr>\n",
       "      <th>6</th>\n",
       "      <td>7</td>\n",
       "      <td>B</td>\n",
       "      <td>F</td>\n",
       "      <td>4</td>\n",
       "      <td>example1.csv</td>\n",
       "    </tr>\n",
       "    <tr>\n",
       "      <th>7</th>\n",
       "      <td>8</td>\n",
       "      <td>B</td>\n",
       "      <td>F</td>\n",
       "      <td>6</td>\n",
       "      <td>example1.csv</td>\n",
       "    </tr>\n",
       "    <tr>\n",
       "      <th>8</th>\n",
       "      <td>1</td>\n",
       "      <td>A</td>\n",
       "      <td>F</td>\n",
       "      <td>2</td>\n",
       "      <td>example2.csv</td>\n",
       "    </tr>\n",
       "    <tr>\n",
       "      <th>9</th>\n",
       "      <td>2</td>\n",
       "      <td>A</td>\n",
       "      <td>M</td>\n",
       "      <td>2</td>\n",
       "      <td>example2.csv</td>\n",
       "    </tr>\n",
       "    <tr>\n",
       "      <th>10</th>\n",
       "      <td>3</td>\n",
       "      <td>A</td>\n",
       "      <td>M</td>\n",
       "      <td>2</td>\n",
       "      <td>example2.csv</td>\n",
       "    </tr>\n",
       "    <tr>\n",
       "      <th>11</th>\n",
       "      <td>4</td>\n",
       "      <td>A</td>\n",
       "      <td>F</td>\n",
       "      <td>2</td>\n",
       "      <td>example2.csv</td>\n",
       "    </tr>\n",
       "    <tr>\n",
       "      <th>12</th>\n",
       "      <td>5</td>\n",
       "      <td>B</td>\n",
       "      <td>F</td>\n",
       "      <td>2</td>\n",
       "      <td>example2.csv</td>\n",
       "    </tr>\n",
       "    <tr>\n",
       "      <th>13</th>\n",
       "      <td>6</td>\n",
       "      <td>B</td>\n",
       "      <td>M</td>\n",
       "      <td>2</td>\n",
       "      <td>example2.csv</td>\n",
       "    </tr>\n",
       "    <tr>\n",
       "      <th>14</th>\n",
       "      <td>7</td>\n",
       "      <td>B</td>\n",
       "      <td>F</td>\n",
       "      <td>2</td>\n",
       "      <td>example2.csv</td>\n",
       "    </tr>\n",
       "    <tr>\n",
       "      <th>15</th>\n",
       "      <td>8</td>\n",
       "      <td>B</td>\n",
       "      <td>F</td>\n",
       "      <td>2</td>\n",
       "      <td>example2.csv</td>\n",
       "    </tr>\n",
       "    <tr>\n",
       "      <th>16</th>\n",
       "      <td>1</td>\n",
       "      <td>A</td>\n",
       "      <td>F</td>\n",
       "      <td>3</td>\n",
       "      <td>example3.csv</td>\n",
       "    </tr>\n",
       "    <tr>\n",
       "      <th>17</th>\n",
       "      <td>2</td>\n",
       "      <td>A</td>\n",
       "      <td>M</td>\n",
       "      <td>3</td>\n",
       "      <td>example3.csv</td>\n",
       "    </tr>\n",
       "    <tr>\n",
       "      <th>18</th>\n",
       "      <td>3</td>\n",
       "      <td>A</td>\n",
       "      <td>M</td>\n",
       "      <td>3</td>\n",
       "      <td>example3.csv</td>\n",
       "    </tr>\n",
       "    <tr>\n",
       "      <th>19</th>\n",
       "      <td>4</td>\n",
       "      <td>A</td>\n",
       "      <td>F</td>\n",
       "      <td>3</td>\n",
       "      <td>example3.csv</td>\n",
       "    </tr>\n",
       "    <tr>\n",
       "      <th>20</th>\n",
       "      <td>5</td>\n",
       "      <td>B</td>\n",
       "      <td>F</td>\n",
       "      <td>3</td>\n",
       "      <td>example3.csv</td>\n",
       "    </tr>\n",
       "    <tr>\n",
       "      <th>21</th>\n",
       "      <td>6</td>\n",
       "      <td>B</td>\n",
       "      <td>M</td>\n",
       "      <td>3</td>\n",
       "      <td>example3.csv</td>\n",
       "    </tr>\n",
       "    <tr>\n",
       "      <th>22</th>\n",
       "      <td>7</td>\n",
       "      <td>B</td>\n",
       "      <td>F</td>\n",
       "      <td>3</td>\n",
       "      <td>example3.csv</td>\n",
       "    </tr>\n",
       "    <tr>\n",
       "      <th>23</th>\n",
       "      <td>8</td>\n",
       "      <td>B</td>\n",
       "      <td>F</td>\n",
       "      <td>3</td>\n",
       "      <td>example3.csv</td>\n",
       "    </tr>\n",
       "  </tbody>\n",
       "</table>\n",
       "</div>"
      ],
      "text/plain": [
       "    id treatment gender  response         month\n",
       "0    1         A      F         5  example1.csv\n",
       "1    2         A      M         3  example1.csv\n",
       "2    3         A      M         8  example1.csv\n",
       "3    4         A      F         9  example1.csv\n",
       "4    5         B      F         1  example1.csv\n",
       "5    6         B      M         8  example1.csv\n",
       "6    7         B      F         4  example1.csv\n",
       "7    8         B      F         6  example1.csv\n",
       "8    1         A      F         2  example2.csv\n",
       "9    2         A      M         2  example2.csv\n",
       "10   3         A      M         2  example2.csv\n",
       "11   4         A      F         2  example2.csv\n",
       "12   5         B      F         2  example2.csv\n",
       "13   6         B      M         2  example2.csv\n",
       "14   7         B      F         2  example2.csv\n",
       "15   8         B      F         2  example2.csv\n",
       "16   1         A      F         3  example3.csv\n",
       "17   2         A      M         3  example3.csv\n",
       "18   3         A      M         3  example3.csv\n",
       "19   4         A      F         3  example3.csv\n",
       "20   5         B      F         3  example3.csv\n",
       "21   6         B      M         3  example3.csv\n",
       "22   7         B      F         3  example3.csv\n",
       "23   8         B      F         3  example3.csv"
      ]
     },
     "execution_count": 73,
     "metadata": {},
     "output_type": "execute_result"
    }
   ],
   "source": [
    "pd.concat(list_data, ignore_index = True)  # to make a single dataframe, we use pd.concat over the list of dataframes"
   ]
  },
  {
   "cell_type": "code",
   "execution_count": 77,
   "metadata": {},
   "outputs": [
    {
     "name": "stdout",
     "output_type": "stream",
     "text": [
      "     name  treatment A  treatment B\n",
      "0  daniel          NaN           42\n",
      "1    john         12.0           31\n",
      "2    jane         24.0           27\n"
     ]
    }
   ],
   "source": [
    "name = ['daniel','john','jane']\n",
    "trA = [np.NaN, 12, 24]\n",
    "trB = [42, 31, 27]\n",
    "dfleft = pd.DataFrame({'name': name, 'treatment A': trA, 'treatment B': trB})\n",
    "print(dfleft)"
   ]
  },
  {
   "cell_type": "code",
   "execution_count": 78,
   "metadata": {},
   "outputs": [
    {
     "name": "stdout",
     "output_type": "stream",
     "text": [
      "  patient  treatment C  treatment D\n",
      "0    john            0           42\n",
      "1     max           12           31\n",
      "2    jane           24           27\n"
     ]
    }
   ],
   "source": [
    "name = ['john','max','jane']\n",
    "trC = [0, 12, 24]\n",
    "trD = [42, 31, 27]\n",
    "dfright = pd.DataFrame({'patient': name, 'treatment C': trC, 'treatment D': trD})\n",
    "print(dfright)"
   ]
  },
  {
   "cell_type": "code",
   "execution_count": 80,
   "metadata": {},
   "outputs": [
    {
     "data": {
      "text/html": [
       "<div>\n",
       "<style scoped>\n",
       "    .dataframe tbody tr th:only-of-type {\n",
       "        vertical-align: middle;\n",
       "    }\n",
       "\n",
       "    .dataframe tbody tr th {\n",
       "        vertical-align: top;\n",
       "    }\n",
       "\n",
       "    .dataframe thead th {\n",
       "        text-align: right;\n",
       "    }\n",
       "</style>\n",
       "<table border=\"1\" class=\"dataframe\">\n",
       "  <thead>\n",
       "    <tr style=\"text-align: right;\">\n",
       "      <th></th>\n",
       "      <th>name</th>\n",
       "      <th>treatment A</th>\n",
       "      <th>treatment B</th>\n",
       "      <th>patient</th>\n",
       "      <th>treatment C</th>\n",
       "      <th>treatment D</th>\n",
       "    </tr>\n",
       "  </thead>\n",
       "  <tbody>\n",
       "    <tr>\n",
       "      <th>0</th>\n",
       "      <td>john</td>\n",
       "      <td>12.0</td>\n",
       "      <td>31</td>\n",
       "      <td>john</td>\n",
       "      <td>0</td>\n",
       "      <td>42</td>\n",
       "    </tr>\n",
       "    <tr>\n",
       "      <th>1</th>\n",
       "      <td>jane</td>\n",
       "      <td>24.0</td>\n",
       "      <td>27</td>\n",
       "      <td>jane</td>\n",
       "      <td>24</td>\n",
       "      <td>27</td>\n",
       "    </tr>\n",
       "  </tbody>\n",
       "</table>\n",
       "</div>"
      ],
      "text/plain": [
       "   name  treatment A  treatment B patient  treatment C  treatment D\n",
       "0  john         12.0           31    john            0           42\n",
       "1  jane         24.0           27    jane           24           27"
      ]
     },
     "execution_count": 80,
     "metadata": {},
     "output_type": "execute_result"
    }
   ],
   "source": [
    "dfleft.merge(dfright, left_on = 'name', right_on = 'patient')  # inner join, will return only rows that exist in both"
   ]
  },
  {
   "cell_type": "code",
   "execution_count": 81,
   "metadata": {},
   "outputs": [
    {
     "data": {
      "text/html": [
       "<div>\n",
       "<style scoped>\n",
       "    .dataframe tbody tr th:only-of-type {\n",
       "        vertical-align: middle;\n",
       "    }\n",
       "\n",
       "    .dataframe tbody tr th {\n",
       "        vertical-align: top;\n",
       "    }\n",
       "\n",
       "    .dataframe thead th {\n",
       "        text-align: right;\n",
       "    }\n",
       "</style>\n",
       "<table border=\"1\" class=\"dataframe\">\n",
       "  <thead>\n",
       "    <tr style=\"text-align: right;\">\n",
       "      <th></th>\n",
       "      <th>name</th>\n",
       "      <th>treatment A</th>\n",
       "      <th>treatment B</th>\n",
       "      <th>patient</th>\n",
       "      <th>treatment C</th>\n",
       "      <th>treatment D</th>\n",
       "    </tr>\n",
       "  </thead>\n",
       "  <tbody>\n",
       "    <tr>\n",
       "      <th>0</th>\n",
       "      <td>daniel</td>\n",
       "      <td>NaN</td>\n",
       "      <td>42</td>\n",
       "      <td>NaN</td>\n",
       "      <td>NaN</td>\n",
       "      <td>NaN</td>\n",
       "    </tr>\n",
       "    <tr>\n",
       "      <th>1</th>\n",
       "      <td>john</td>\n",
       "      <td>12.0</td>\n",
       "      <td>31</td>\n",
       "      <td>john</td>\n",
       "      <td>0.0</td>\n",
       "      <td>42.0</td>\n",
       "    </tr>\n",
       "    <tr>\n",
       "      <th>2</th>\n",
       "      <td>jane</td>\n",
       "      <td>24.0</td>\n",
       "      <td>27</td>\n",
       "      <td>jane</td>\n",
       "      <td>24.0</td>\n",
       "      <td>27.0</td>\n",
       "    </tr>\n",
       "  </tbody>\n",
       "</table>\n",
       "</div>"
      ],
      "text/plain": [
       "     name  treatment A  treatment B patient  treatment C  treatment D\n",
       "0  daniel          NaN           42     NaN          NaN          NaN\n",
       "1    john         12.0           31    john          0.0         42.0\n",
       "2    jane         24.0           27    jane         24.0         27.0"
      ]
     },
     "execution_count": 81,
     "metadata": {},
     "output_type": "execute_result"
    }
   ],
   "source": [
    "dfleft.merge(dfright, left_on = 'name', right_on = 'patient', how = 'left')  \n",
    "# left join, will return all the rows in the left table and rows from the right table that matches"
   ]
  },
  {
   "cell_type": "code",
   "execution_count": 82,
   "metadata": {},
   "outputs": [
    {
     "data": {
      "text/html": [
       "<div>\n",
       "<style scoped>\n",
       "    .dataframe tbody tr th:only-of-type {\n",
       "        vertical-align: middle;\n",
       "    }\n",
       "\n",
       "    .dataframe tbody tr th {\n",
       "        vertical-align: top;\n",
       "    }\n",
       "\n",
       "    .dataframe thead th {\n",
       "        text-align: right;\n",
       "    }\n",
       "</style>\n",
       "<table border=\"1\" class=\"dataframe\">\n",
       "  <thead>\n",
       "    <tr style=\"text-align: right;\">\n",
       "      <th></th>\n",
       "      <th>name</th>\n",
       "      <th>treatment A</th>\n",
       "      <th>treatment B</th>\n",
       "      <th>patient</th>\n",
       "      <th>treatment C</th>\n",
       "      <th>treatment D</th>\n",
       "    </tr>\n",
       "  </thead>\n",
       "  <tbody>\n",
       "    <tr>\n",
       "      <th>0</th>\n",
       "      <td>john</td>\n",
       "      <td>12.0</td>\n",
       "      <td>31.0</td>\n",
       "      <td>john</td>\n",
       "      <td>0</td>\n",
       "      <td>42</td>\n",
       "    </tr>\n",
       "    <tr>\n",
       "      <th>1</th>\n",
       "      <td>jane</td>\n",
       "      <td>24.0</td>\n",
       "      <td>27.0</td>\n",
       "      <td>jane</td>\n",
       "      <td>24</td>\n",
       "      <td>27</td>\n",
       "    </tr>\n",
       "    <tr>\n",
       "      <th>2</th>\n",
       "      <td>NaN</td>\n",
       "      <td>NaN</td>\n",
       "      <td>NaN</td>\n",
       "      <td>max</td>\n",
       "      <td>12</td>\n",
       "      <td>31</td>\n",
       "    </tr>\n",
       "  </tbody>\n",
       "</table>\n",
       "</div>"
      ],
      "text/plain": [
       "   name  treatment A  treatment B patient  treatment C  treatment D\n",
       "0  john         12.0         31.0    john            0           42\n",
       "1  jane         24.0         27.0    jane           24           27\n",
       "2   NaN          NaN          NaN     max           12           31"
      ]
     },
     "execution_count": 82,
     "metadata": {},
     "output_type": "execute_result"
    }
   ],
   "source": [
    "dfleft.merge(dfright, left_on = 'name', right_on = 'patient', how = 'right')  \n",
    "# right join, will return all the rows in the right table and rows from the left table that matches"
   ]
  },
  {
   "cell_type": "code",
   "execution_count": 83,
   "metadata": {},
   "outputs": [
    {
     "data": {
      "text/html": [
       "<div>\n",
       "<style scoped>\n",
       "    .dataframe tbody tr th:only-of-type {\n",
       "        vertical-align: middle;\n",
       "    }\n",
       "\n",
       "    .dataframe tbody tr th {\n",
       "        vertical-align: top;\n",
       "    }\n",
       "\n",
       "    .dataframe thead th {\n",
       "        text-align: right;\n",
       "    }\n",
       "</style>\n",
       "<table border=\"1\" class=\"dataframe\">\n",
       "  <thead>\n",
       "    <tr style=\"text-align: right;\">\n",
       "      <th></th>\n",
       "      <th>name</th>\n",
       "      <th>treatment A</th>\n",
       "      <th>treatment B</th>\n",
       "      <th>patient</th>\n",
       "      <th>treatment C</th>\n",
       "      <th>treatment D</th>\n",
       "    </tr>\n",
       "  </thead>\n",
       "  <tbody>\n",
       "    <tr>\n",
       "      <th>0</th>\n",
       "      <td>daniel</td>\n",
       "      <td>NaN</td>\n",
       "      <td>42.0</td>\n",
       "      <td>NaN</td>\n",
       "      <td>NaN</td>\n",
       "      <td>NaN</td>\n",
       "    </tr>\n",
       "    <tr>\n",
       "      <th>1</th>\n",
       "      <td>john</td>\n",
       "      <td>12.0</td>\n",
       "      <td>31.0</td>\n",
       "      <td>john</td>\n",
       "      <td>0.0</td>\n",
       "      <td>42.0</td>\n",
       "    </tr>\n",
       "    <tr>\n",
       "      <th>2</th>\n",
       "      <td>jane</td>\n",
       "      <td>24.0</td>\n",
       "      <td>27.0</td>\n",
       "      <td>jane</td>\n",
       "      <td>24.0</td>\n",
       "      <td>27.0</td>\n",
       "    </tr>\n",
       "    <tr>\n",
       "      <th>3</th>\n",
       "      <td>NaN</td>\n",
       "      <td>NaN</td>\n",
       "      <td>NaN</td>\n",
       "      <td>max</td>\n",
       "      <td>12.0</td>\n",
       "      <td>31.0</td>\n",
       "    </tr>\n",
       "  </tbody>\n",
       "</table>\n",
       "</div>"
      ],
      "text/plain": [
       "     name  treatment A  treatment B patient  treatment C  treatment D\n",
       "0  daniel          NaN         42.0     NaN          NaN          NaN\n",
       "1    john         12.0         31.0    john          0.0         42.0\n",
       "2    jane         24.0         27.0    jane         24.0         27.0\n",
       "3     NaN          NaN          NaN     max         12.0         31.0"
      ]
     },
     "execution_count": 83,
     "metadata": {},
     "output_type": "execute_result"
    }
   ],
   "source": [
    "dfleft.merge(dfright, left_on = 'name', right_on = 'patient', how = 'outer')  \n",
    "# all rows from both tables\n"
   ]
  },
  {
   "cell_type": "code",
   "execution_count": 84,
   "metadata": {},
   "outputs": [
    {
     "name": "stdout",
     "output_type": "stream",
     "text": [
      "     name  treatment A  treatment B patient  treatment C  treatment D\n",
      "0  daniel          NaN         42.0     NaN          NaN          NaN\n",
      "1    john         12.0         31.0    john          0.0         42.0\n",
      "2    jane         24.0         27.0    jane         24.0         27.0\n",
      "3     NaN          NaN          NaN     max         12.0         31.0\n"
     ]
    }
   ],
   "source": [
    "merged = dfleft.merge(dfright, left_on = 'name', right_on = 'patient', how = 'outer')  \n",
    "print(merged)"
   ]
  },
  {
   "cell_type": "code",
   "execution_count": 86,
   "metadata": {},
   "outputs": [
    {
     "name": "stdout",
     "output_type": "stream",
     "text": [
      "     name  treatment A  treatment B\n",
      "0  daniel          NaN           42\n",
      "1    john         12.0           31\n",
      "2    jane         24.0           27\n"
     ]
    }
   ],
   "source": [
    "name = ['daniel','john','jane']\n",
    "trA = [np.NaN, 12, 24]\n",
    "trB = [42, 31, 27]\n",
    "dfleft = pd.DataFrame({'name': name, 'treatment A': trA, 'treatment B': trB})\n",
    "print(dfleft)"
   ]
  },
  {
   "cell_type": "code",
   "execution_count": 88,
   "metadata": {},
   "outputs": [
    {
     "name": "stdout",
     "output_type": "stream",
     "text": [
      "     name parents\n",
      "0  daniel     mom\n",
      "1  daniel     dad\n",
      "2    john    mama\n",
      "3    john    papa\n"
     ]
    }
   ],
   "source": [
    "name = ['daniel','daniel','john','john']\n",
    "parents = ['mom','dad','mama','papa']\n",
    "dfright = pd.DataFrame({'name': name, 'parents': parents})\n",
    "print(dfright)"
   ]
  },
  {
   "cell_type": "code",
   "execution_count": 90,
   "metadata": {},
   "outputs": [
    {
     "data": {
      "text/html": [
       "<div>\n",
       "<style scoped>\n",
       "    .dataframe tbody tr th:only-of-type {\n",
       "        vertical-align: middle;\n",
       "    }\n",
       "\n",
       "    .dataframe tbody tr th {\n",
       "        vertical-align: top;\n",
       "    }\n",
       "\n",
       "    .dataframe thead th {\n",
       "        text-align: right;\n",
       "    }\n",
       "</style>\n",
       "<table border=\"1\" class=\"dataframe\">\n",
       "  <thead>\n",
       "    <tr style=\"text-align: right;\">\n",
       "      <th></th>\n",
       "      <th>name</th>\n",
       "      <th>treatment A</th>\n",
       "      <th>treatment B</th>\n",
       "      <th>parents</th>\n",
       "    </tr>\n",
       "  </thead>\n",
       "  <tbody>\n",
       "    <tr>\n",
       "      <th>0</th>\n",
       "      <td>daniel</td>\n",
       "      <td>NaN</td>\n",
       "      <td>42</td>\n",
       "      <td>mom</td>\n",
       "    </tr>\n",
       "    <tr>\n",
       "      <th>1</th>\n",
       "      <td>daniel</td>\n",
       "      <td>NaN</td>\n",
       "      <td>42</td>\n",
       "      <td>dad</td>\n",
       "    </tr>\n",
       "    <tr>\n",
       "      <th>2</th>\n",
       "      <td>john</td>\n",
       "      <td>12.0</td>\n",
       "      <td>31</td>\n",
       "      <td>mama</td>\n",
       "    </tr>\n",
       "    <tr>\n",
       "      <th>3</th>\n",
       "      <td>john</td>\n",
       "      <td>12.0</td>\n",
       "      <td>31</td>\n",
       "      <td>papa</td>\n",
       "    </tr>\n",
       "  </tbody>\n",
       "</table>\n",
       "</div>"
      ],
      "text/plain": [
       "     name  treatment A  treatment B parents\n",
       "0  daniel          NaN           42     mom\n",
       "1  daniel          NaN           42     dad\n",
       "2    john         12.0           31    mama\n",
       "3    john         12.0           31    papa"
      ]
     },
     "execution_count": 90,
     "metadata": {},
     "output_type": "execute_result"
    }
   ],
   "source": [
    "dfleft.merge(dfright, on = 'name')  # a one-to-many inner join\n",
    "# returns only rows that match in left and right\n",
    "# for rows that appear multiple times in the right\n",
    "# the contents in the left gets duplicated"
   ]
  },
  {
   "cell_type": "code",
   "execution_count": null,
   "metadata": {},
   "outputs": [],
   "source": []
  }
 ],
 "metadata": {
  "kernelspec": {
   "display_name": "Python 3",
   "language": "python",
   "name": "python3"
  },
  "language_info": {
   "codemirror_mode": {
    "name": "ipython",
    "version": 3
   },
   "file_extension": ".py",
   "mimetype": "text/x-python",
   "name": "python",
   "nbconvert_exporter": "python",
   "pygments_lexer": "ipython3",
   "version": "3.6.5"
  }
 },
 "nbformat": 4,
 "nbformat_minor": 2
}
